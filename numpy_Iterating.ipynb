{
 "cells": [
  {
   "cell_type": "markdown",
   "metadata": {},
   "source": [
    "### If we iterate on a n-D array it will go through n-1th dimension one by one."
   ]
  },
  {
   "cell_type": "code",
   "execution_count": 1,
   "metadata": {},
   "outputs": [],
   "source": [
    "import numpy as np"
   ]
  },
  {
   "cell_type": "code",
   "execution_count": 2,
   "metadata": {},
   "outputs": [],
   "source": [
    "arr = np.random.randint(1,100,20) # choose random 20 numbers between 1 ~ 100"
   ]
  },
  {
   "cell_type": "code",
   "execution_count": 3,
   "metadata": {},
   "outputs": [
    {
     "data": {
      "text/plain": [
       "array([89, 71, 15, 50, 98, 82, 15,  4, 44, 57, 90, 29, 67, 94, 70, 83,  7,\n",
       "       62, 98, 41])"
      ]
     },
     "execution_count": 3,
     "metadata": {},
     "output_type": "execute_result"
    }
   ],
   "source": [
    "arr"
   ]
  },
  {
   "cell_type": "code",
   "execution_count": 4,
   "metadata": {},
   "outputs": [
    {
     "name": "stdout",
     "output_type": "stream",
     "text": [
      "89\n",
      "71\n",
      "15\n",
      "50\n",
      "98\n",
      "82\n",
      "15\n",
      "4\n",
      "44\n",
      "57\n",
      "90\n",
      "29\n",
      "67\n",
      "94\n",
      "70\n",
      "83\n",
      "7\n",
      "62\n",
      "98\n",
      "41\n"
     ]
    }
   ],
   "source": [
    "# iterate through arr\n",
    "for i in arr:\n",
    "    print(i)"
   ]
  },
  {
   "cell_type": "code",
   "execution_count": 5,
   "metadata": {},
   "outputs": [],
   "source": [
    "arr2 = arr.reshape(4,5)"
   ]
  },
  {
   "cell_type": "code",
   "execution_count": 6,
   "metadata": {},
   "outputs": [
    {
     "name": "stdout",
     "output_type": "stream",
     "text": [
      "[89 71 15 50 98]\n",
      "[82 15  4 44 57]\n",
      "[90 29 67 94 70]\n",
      "[83  7 62 98 41]\n"
     ]
    }
   ],
   "source": [
    "for j in arr2:\n",
    "    print(j)"
   ]
  },
  {
   "cell_type": "code",
   "execution_count": 7,
   "metadata": {},
   "outputs": [],
   "source": [
    "arr3 = arr.reshape(2,2,5)"
   ]
  },
  {
   "cell_type": "code",
   "execution_count": 10,
   "metadata": {},
   "outputs": [
    {
     "name": "stdout",
     "output_type": "stream",
     "text": [
      "m represents the 2-D array:\n",
      "[[89 71 15 50 98]\n",
      " [82 15  4 44 57]]\n",
      "m represents the 2-D array:\n",
      "[[90 29 67 94 70]\n",
      " [83  7 62 98 41]]\n"
     ]
    }
   ],
   "source": [
    "for m in arr3:\n",
    "    print(\"m represents the 2-D array:\")\n",
    "    print(m)"
   ]
  },
  {
   "cell_type": "markdown",
   "metadata": {},
   "source": [
    "### To get scalars, use n*for statements for n dimensions or np.nditer()"
   ]
  },
  {
   "cell_type": "code",
   "execution_count": 9,
   "metadata": {},
   "outputs": [
    {
     "name": "stdout",
     "output_type": "stream",
     "text": [
      "89\n",
      "71\n",
      "15\n",
      "50\n",
      "98\n",
      "82\n",
      "15\n",
      "4\n",
      "44\n",
      "57\n",
      "90\n",
      "29\n",
      "67\n",
      "94\n",
      "70\n",
      "83\n",
      "7\n",
      "62\n",
      "98\n",
      "41\n"
     ]
    }
   ],
   "source": [
    "for i in arr3:\n",
    "    for j in i:\n",
    "        for t in j:\n",
    "            print(t)"
   ]
  },
  {
   "cell_type": "code",
   "execution_count": 11,
   "metadata": {},
   "outputs": [
    {
     "name": "stdout",
     "output_type": "stream",
     "text": [
      "89\n",
      "71\n",
      "15\n",
      "50\n",
      "98\n",
      "82\n",
      "15\n",
      "4\n",
      "44\n",
      "57\n",
      "90\n",
      "29\n",
      "67\n",
      "94\n",
      "70\n",
      "83\n",
      "7\n",
      "62\n",
      "98\n",
      "41\n"
     ]
    }
   ],
   "source": [
    "for j in np.nditer(arr3):\n",
    "    print(j)"
   ]
  },
  {
   "cell_type": "markdown",
   "metadata": {},
   "source": [
    "### Out put a different type \n",
    "\n",
    "#### NumPy does not change the data type of the element in-place (where the element is in array) so it needs some other space to perform this action, that extra space is called buffer, and in order to enable it in nditer() we pass flags=['buffered']"
   ]
  },
  {
   "cell_type": "code",
   "execution_count": 12,
   "metadata": {},
   "outputs": [
    {
     "name": "stdout",
     "output_type": "stream",
     "text": [
      "b'1'\n",
      "b'2'\n",
      "b'3'\n"
     ]
    }
   ],
   "source": [
    "arr2 = np.array([1, 2, 3])\n",
    "\n",
    "for x in np.nditer(arr2, flags=['buffered'], op_dtypes=['S']):\n",
    "  print(x)"
   ]
  },
  {
   "cell_type": "code",
   "execution_count": 13,
   "metadata": {},
   "outputs": [
    {
     "name": "stdout",
     "output_type": "stream",
     "text": [
      "1\n",
      "2\n",
      "3\n"
     ]
    }
   ],
   "source": [
    "arr2 = np.array([1, 2, 3])\n",
    "\n",
    "for x in np.nditer(arr2, flags=['buffered'], op_dtypes=['str']):\n",
    "  print(x)"
   ]
  },
  {
   "cell_type": "markdown",
   "metadata": {},
   "source": [
    "### Iterating With Different Step Size"
   ]
  },
  {
   "cell_type": "code",
   "execution_count": 14,
   "metadata": {},
   "outputs": [
    {
     "name": "stdout",
     "output_type": "stream",
     "text": [
      "[1 3]\n",
      "[5 7]\n",
      "[ 9 12]\n"
     ]
    }
   ],
   "source": [
    "arr3 = np.array([[1,2,3,4],[5,6,7,8],[9,10,12,12]])\n",
    "\n",
    "for i in arr3[:,::2]:  # all rows, all columns, step=2\n",
    "    print(i)"
   ]
  },
  {
   "cell_type": "code",
   "execution_count": 15,
   "metadata": {},
   "outputs": [
    {
     "name": "stdout",
     "output_type": "stream",
     "text": [
      "1\n",
      "3\n",
      "5\n",
      "7\n",
      "9\n",
      "12\n"
     ]
    }
   ],
   "source": [
    "for i in np.nditer(arr3[:,::2]):  # all rows, all columns, step=2\n",
    "    print(i)"
   ]
  },
  {
   "cell_type": "markdown",
   "metadata": {},
   "source": [
    "### Enumerated Iteration Using ndenumerate()"
   ]
  },
  {
   "cell_type": "code",
   "execution_count": 16,
   "metadata": {},
   "outputs": [
    {
     "name": "stdout",
     "output_type": "stream",
     "text": [
      "(0, 0) 1\n",
      "(0, 1) 2\n",
      "(0, 2) 3\n",
      "(0, 3) 4\n",
      "(1, 0) 5\n",
      "(1, 1) 6\n",
      "(1, 2) 7\n",
      "(1, 3) 8\n",
      "(2, 0) 9\n",
      "(2, 1) 10\n",
      "(2, 2) 12\n",
      "(2, 3) 12\n"
     ]
    }
   ],
   "source": [
    "for indx, i in np.ndenumerate(arr3):\n",
    "    print(indx, i)"
   ]
  },
  {
   "cell_type": "code",
   "execution_count": null,
   "metadata": {},
   "outputs": [],
   "source": []
  }
 ],
 "metadata": {
  "kernelspec": {
   "display_name": "Python 3",
   "language": "python",
   "name": "python3"
  },
  "language_info": {
   "codemirror_mode": {
    "name": "ipython",
    "version": 3
   },
   "file_extension": ".py",
   "mimetype": "text/x-python",
   "name": "python",
   "nbconvert_exporter": "python",
   "pygments_lexer": "ipython3",
   "version": "3.8.2"
  }
 },
 "nbformat": 4,
 "nbformat_minor": 4
}
