{
 "cells": [
  {
   "cell_type": "markdown",
   "metadata": {},
   "source": [
    "### Random integer\n",
    "#### np.random.randint(n) 至少一个参数，取小于该数的一个整数 randint(10)\n",
    "#### np.random.randint(n,m) 为取两个参数之间的一个整数\n",
    "#### np.random.randint(n,m,N) N为取值个数，N=（2,3）则取6个值，2行3列"
   ]
  },
  {
   "cell_type": "code",
   "execution_count": 3,
   "metadata": {},
   "outputs": [
    {
     "data": {
      "text/plain": [
       "70"
      ]
     },
     "execution_count": 3,
     "metadata": {},
     "output_type": "execute_result"
    }
   ],
   "source": [
    "from numpy import random\n",
    "\n",
    "random.randint(100) # generate a random integer from 0 to 100"
   ]
  },
  {
   "cell_type": "code",
   "execution_count": 20,
   "metadata": {},
   "outputs": [
    {
     "data": {
      "text/plain": [
       "array([89, 84, 84, 93, 77, 78, 98, 70, 95, 62, 80, 65, 63, 95, 68, 80, 51,\n",
       "       98, 70, 66])"
      ]
     },
     "execution_count": 20,
     "metadata": {},
     "output_type": "execute_result"
    }
   ],
   "source": [
    "random.randint(50,100,20) # 50 - 100(exclude) 20 random values"
   ]
  },
  {
   "cell_type": "code",
   "execution_count": 21,
   "metadata": {},
   "outputs": [
    {
     "data": {
      "text/plain": [
       "array([[84, 54, 94, 96, 63],\n",
       "       [88, 57, 52, 51, 99],\n",
       "       [65, 79, 83, 63, 58],\n",
       "       [93, 83, 56, 99, 94]])"
      ]
     },
     "execution_count": 21,
     "metadata": {},
     "output_type": "execute_result"
    }
   ],
   "source": [
    "random.randint(50,100,20).reshape(4,5)"
   ]
  },
  {
   "cell_type": "code",
   "execution_count": 25,
   "metadata": {},
   "outputs": [
    {
     "data": {
      "text/plain": [
       "array([[50, 51, 92, 59, 88],\n",
       "       [84, 68, 97, 91, 67],\n",
       "       [70, 79, 51, 73, 86],\n",
       "       [83, 83, 56, 53, 71]])"
      ]
     },
     "execution_count": 25,
     "metadata": {},
     "output_type": "execute_result"
    }
   ],
   "source": [
    "random.randint(50,100,(4,5))"
   ]
  },
  {
   "cell_type": "code",
   "execution_count": 27,
   "metadata": {},
   "outputs": [
    {
     "ename": "TypeError",
     "evalue": "randint() takes at least 1 positional argument (0 given)",
     "output_type": "error",
     "traceback": [
      "\u001b[1;31m---------------------------------------------------------------------------\u001b[0m",
      "\u001b[1;31mTypeError\u001b[0m                                 Traceback (most recent call last)",
      "\u001b[1;32m<ipython-input-27-78228f7490b6>\u001b[0m in \u001b[0;36m<module>\u001b[1;34m\u001b[0m\n\u001b[1;32m----> 1\u001b[1;33m \u001b[0mrandom\u001b[0m\u001b[1;33m.\u001b[0m\u001b[0mrandint\u001b[0m\u001b[1;33m(\u001b[0m\u001b[1;33m)\u001b[0m\u001b[1;33m\u001b[0m\u001b[1;33m\u001b[0m\u001b[0m\n\u001b[0m",
      "\u001b[1;32mmtrand.pyx\u001b[0m in \u001b[0;36mnumpy.random.mtrand.RandomState.randint\u001b[1;34m()\u001b[0m\n",
      "\u001b[1;31mTypeError\u001b[0m: randint() takes at least 1 positional argument (0 given)"
     ]
    }
   ],
   "source": [
    "random.randint()"
   ]
  },
  {
   "cell_type": "markdown",
   "metadata": {},
   "source": [
    "### Generate Random Float\n",
    "#### random.rand() 取值范围已定(0,1)，可以不带参数，默认为取一个值\n",
    "#### random.rand(N) / random.rand((N,L)) 参数为取值个数及显示形式，N个值/ N行L列"
   ]
  },
  {
   "cell_type": "code",
   "execution_count": 2,
   "metadata": {},
   "outputs": [
    {
     "data": {
      "text/plain": [
       "0.5673365296965324"
      ]
     },
     "execution_count": 2,
     "metadata": {},
     "output_type": "execute_result"
    }
   ],
   "source": [
    "random.rand() # generate a random float from 0 to 1"
   ]
  },
  {
   "cell_type": "code",
   "execution_count": 23,
   "metadata": {},
   "outputs": [
    {
     "data": {
      "text/plain": [
       "array([[0.53296768, 0.81515508, 0.39073347, 0.9782644 , 0.08779768],\n",
       "       [0.34317459, 0.6112893 , 0.70377665, 0.7258338 , 0.34187736]])"
      ]
     },
     "execution_count": 23,
     "metadata": {},
     "output_type": "execute_result"
    }
   ],
   "source": [
    "random.rand(10).reshape(2,5) "
   ]
  },
  {
   "cell_type": "code",
   "execution_count": 24,
   "metadata": {},
   "outputs": [
    {
     "data": {
      "text/plain": [
       "array([[0.81772857, 0.08444605, 0.2033627 , 0.55695811, 0.94433634],\n",
       "       [0.46358543, 0.65389732, 0.35577298, 0.53596255, 0.39619747]])"
      ]
     },
     "execution_count": 24,
     "metadata": {},
     "output_type": "execute_result"
    }
   ],
   "source": [
    "random.rand(2,5)"
   ]
  },
  {
   "cell_type": "markdown",
   "metadata": {},
   "source": [
    "### Generate Random array from normal distribution\n",
    "#### random.randn() 取符合标准正态分布的一个值\n",
    "#### random.randn(N,L) N行L列值 符合标准正态分布 mean=0, std^2=1"
   ]
  },
  {
   "cell_type": "code",
   "execution_count": 4,
   "metadata": {},
   "outputs": [
    {
     "data": {
      "text/plain": [
       "array([[-0.56989854,  0.35759019, -0.8458217 ,  0.62959106],\n",
       "       [-1.10977907, -1.19711531,  0.19698704, -0.7198517 ]])"
      ]
     },
     "execution_count": 4,
     "metadata": {},
     "output_type": "execute_result"
    }
   ],
   "source": [
    "random.randn(2, 4) # Return a sample (or samples) from the “standard normal” distribution"
   ]
  },
  {
   "cell_type": "code",
   "execution_count": 35,
   "metadata": {},
   "outputs": [
    {
     "data": {
      "text/plain": [
       "[<matplotlib.lines.Line2D at 0xc86abc8>]"
      ]
     },
     "execution_count": 35,
     "metadata": {},
     "output_type": "execute_result"
    },
    {
     "data": {
      "image/png": "[encoded data removed]",
      "text/plain": [
       "<Figure size 432x288 with 1 Axes>"
      ]
     },
     "metadata": {
      "needs_background": "light"
     },
     "output_type": "display_data"
    }
   ],
   "source": [
    "import matplotlib.pyplot as plt\n",
    "x = np.arange(10)\n",
    "a =random.randn(10)\n",
    "plt.plot(x,a)"
   ]
  },
  {
   "cell_type": "code",
   "execution_count": 6,
   "metadata": {},
   "outputs": [
    {
     "data": {
      "text/plain": [
       "array([[ 6.66262639,  4.49242754,  2.52719421,  7.30222844],\n",
       "       [-1.29946539,  5.43604061,  3.06762221,  2.69322895]])"
      ]
     },
     "execution_count": 6,
     "metadata": {},
     "output_type": "execute_result"
    }
   ],
   "source": [
    "# Two-by-four array of samples from N(3, 6.25):\n",
    "2.5 * random.randn(2, 4) + 3"
   ]
  },
  {
   "cell_type": "markdown",
   "metadata": {},
   "source": [
    "### Generate Random Array"
   ]
  },
  {
   "cell_type": "code",
   "execution_count": 4,
   "metadata": {},
   "outputs": [
    {
     "data": {
      "text/plain": [
       "array([64, 15, 51, 57, 60])"
      ]
     },
     "execution_count": 4,
     "metadata": {},
     "output_type": "execute_result"
    }
   ],
   "source": [
    "random.randint(100, size=5)"
   ]
  },
  {
   "cell_type": "code",
   "execution_count": 5,
   "metadata": {},
   "outputs": [
    {
     "data": {
      "text/plain": [
       "array([[46, 53, 98],\n",
       "       [90, 53, 82]])"
      ]
     },
     "execution_count": 5,
     "metadata": {},
     "output_type": "execute_result"
    }
   ],
   "source": [
    "random.randint(100, size=(2,3))"
   ]
  },
  {
   "cell_type": "code",
   "execution_count": 7,
   "metadata": {},
   "outputs": [
    {
     "data": {
      "text/plain": [
       "array([0.78132716, 0.06952995, 0.39939521, 0.27912463, 0.08668007])"
      ]
     },
     "execution_count": 7,
     "metadata": {},
     "output_type": "execute_result"
    }
   ],
   "source": [
    "random.rand(5)"
   ]
  },
  {
   "cell_type": "code",
   "execution_count": 8,
   "metadata": {},
   "outputs": [
    {
     "data": {
      "text/plain": [
       "array([[0.10783048, 0.91510351, 0.1710901 ],\n",
       "       [0.44207004, 0.36831078, 0.11533928]])"
      ]
     },
     "execution_count": 8,
     "metadata": {},
     "output_type": "execute_result"
    }
   ],
   "source": [
    "random.rand(2,3)"
   ]
  },
  {
   "cell_type": "markdown",
   "metadata": {},
   "source": [
    "### Generate Random Number From Array\n",
    "### The choice() method allows you to generate a random value based on an array of values.\n",
    "### The choice() method takes an array as a parameter and randomly returns one of the values."
   ]
  },
  {
   "cell_type": "code",
   "execution_count": 9,
   "metadata": {},
   "outputs": [
    {
     "data": {
      "text/plain": [
       "3"
      ]
     },
     "execution_count": 9,
     "metadata": {},
     "output_type": "execute_result"
    }
   ],
   "source": [
    "random.choice([3, 5, 7, 9])"
   ]
  },
  {
   "cell_type": "code",
   "execution_count": 10,
   "metadata": {},
   "outputs": [
    {
     "data": {
      "text/plain": [
       "array([[9, 9, 7, 9, 3],\n",
       "       [3, 5, 5, 3, 3],\n",
       "       [9, 5, 7, 3, 5]])"
      ]
     },
     "execution_count": 10,
     "metadata": {},
     "output_type": "execute_result"
    }
   ],
   "source": [
    "random.choice([3, 5, 7, 9], size=(3, 5))"
   ]
  },
  {
   "cell_type": "code",
   "execution_count": 11,
   "metadata": {},
   "outputs": [
    {
     "data": {
      "text/plain": [
       "array([['7', 'a', 'b', 'a', '9'],\n",
       "       ['7', '7', '9', 'b', 'a'],\n",
       "       ['9', 'a', 'b', 'b', '7']], dtype='<U1')"
      ]
     },
     "execution_count": 11,
     "metadata": {},
     "output_type": "execute_result"
    }
   ],
   "source": [
    "random.choice(['a', 'b', 7, 9], size=(3, 5))"
   ]
  },
  {
   "cell_type": "code",
   "execution_count": 8,
   "metadata": {},
   "outputs": [
    {
     "data": {
      "text/plain": [
       "array([176.61330191, 159.89274292, 174.20902251, 166.18769281,\n",
       "       170.89627653, 172.41360593, 161.05177745, 173.22072254,\n",
       "       156.330896  , 158.68005285, 166.98926249, 176.20054258,\n",
       "       169.09503136, 177.03172832, 172.90245533, 176.16293871,\n",
       "       174.74925835, 175.37653404, 163.68612413, 149.13836042,\n",
       "       182.64345324, 154.60937046, 160.87035526, 175.6876643 ,\n",
       "       157.32446807, 175.24703781, 165.9654168 , 175.79179302,\n",
       "       183.55012696, 178.25297632, 195.43237766, 181.2635004 ,\n",
       "       162.07506425, 171.99543219, 151.69715298, 163.37619436,\n",
       "       167.00407996, 152.40746785, 155.02590869, 176.84930707,\n",
       "       181.67636952, 163.2066664 , 181.90490466, 163.84682191,\n",
       "       173.91756399, 162.46180904, 185.45182568, 172.11587139,\n",
       "       181.55582073, 180.05131963, 174.38061883, 170.76493058,\n",
       "       156.21868637, 173.29864665, 177.26838255, 154.34696487,\n",
       "       157.08098184, 179.85543152, 169.57306293, 167.36672485,\n",
       "       183.60682241, 164.0692643 , 173.85842563, 162.94695358,\n",
       "       168.15921673, 175.65243843, 169.79325256, 151.73868234,\n",
       "       156.8465978 , 171.23166359, 188.41629776, 160.46765875,\n",
       "       156.86411221, 169.13200239, 171.37068551, 155.4656262 ,\n",
       "       182.16210772, 164.71704816, 166.7235725 , 178.98959943,\n",
       "       183.75575419, 170.49511955, 185.00301465, 157.90439605,\n",
       "       167.69671788, 168.08107165, 169.3859983 , 179.6690464 ,\n",
       "       165.56032159, 183.03323001, 174.21444804, 173.13844686,\n",
       "       156.67713601, 163.61250608, 180.12595326, 175.07864659,\n",
       "       176.16499054, 189.93066503, 186.2332643 , 149.01602107,\n",
       "       179.6071509 , 164.8169152 , 156.21957754, 169.07026317,\n",
       "       180.27080463, 181.82856846, 173.90790715, 159.43905509,\n",
       "       171.87779371, 178.83107464, 175.82540218, 167.23587068,\n",
       "       172.70385763, 164.07319523, 187.94412288, 160.95657651,\n",
       "       187.90085497, 172.15609313, 171.47654675, 161.82668474,\n",
       "       165.72812299, 147.05352106, 157.3280184 , 169.44837941,\n",
       "       180.15888902, 165.40022599, 160.7435445 , 186.96873351,\n",
       "       171.0284818 , 181.03494358, 161.77512399, 158.64753721,\n",
       "       175.60783904, 172.29048691, 185.03323035, 182.34329065,\n",
       "       165.63101749, 186.83654408, 181.02212908, 169.31296776,\n",
       "       161.15920161, 173.37142506, 192.31408003, 167.14372339,\n",
       "       170.97880739, 170.0456794 , 173.54167499, 164.17850845,\n",
       "       158.45211065, 182.58767438, 163.10940051, 170.18226636,\n",
       "       185.16336488, 172.6926409 , 188.40090888, 167.82773679,\n",
       "       157.33978865, 162.1343588 , 145.77206597, 164.88537439,\n",
       "       182.95527598, 165.2547647 , 181.82483254, 169.95694052,\n",
       "       172.04042946, 189.41946274, 161.82872034, 185.44503408,\n",
       "       161.85169239, 168.16050112, 178.61293993, 167.0439047 ,\n",
       "       179.98257908, 179.7064667 , 161.49000496, 167.10946515,\n",
       "       183.19025453, 173.90022175, 175.54088942, 181.60380142,\n",
       "       166.47198053, 160.38559317, 163.22764131, 186.02508212,\n",
       "       175.96459671, 163.86916031, 174.36344966, 169.99794434,\n",
       "       147.15067936, 157.1142091 , 169.52178062, 167.69007803,\n",
       "       167.83229236, 163.03743363, 162.83444637, 170.64337469,\n",
       "       169.69404263, 164.82895231, 190.62314278, 167.45598345,\n",
       "       166.101715  , 174.09530397, 159.07288317, 169.06462889,\n",
       "       170.64878616, 156.32294022, 164.50922113, 172.60804505,\n",
       "       175.37526185, 144.06567865, 169.86990087, 180.96004451,\n",
       "       155.46495497, 181.21827441, 182.50648661, 161.00548638,\n",
       "       163.97653812, 163.50241095, 159.07283887, 165.32051299,\n",
       "       169.40802807, 163.52641998, 166.53095009, 173.48260237,\n",
       "       161.47527845, 188.58730016, 156.19055131, 180.91961329,\n",
       "       169.27960837, 177.21255605, 164.23352702, 171.26039069,\n",
       "       173.34571876, 175.86324789, 177.77391179, 184.29572571,\n",
       "       182.52769149, 170.69885457, 166.94972242, 152.72923109,\n",
       "       168.59510498, 163.1527962 , 165.05114532, 175.50466573,\n",
       "       163.57983442, 176.11014896, 167.36226103, 183.28728581,\n",
       "       181.79448078, 171.4364117 ])"
      ]
     },
     "execution_count": 8,
     "metadata": {},
     "output_type": "execute_result"
    }
   ],
   "source": [
    "# generate an array with 250 values, where the values will concentrate around 170, and the standard deviation is 10\n",
    "random.normal(170, 10, 250)"
   ]
  },
  {
   "cell_type": "markdown",
   "metadata": {},
   "source": [
    "### Normalize a random array"
   ]
  },
  {
   "cell_type": "code",
   "execution_count": 11,
   "metadata": {},
   "outputs": [
    {
     "data": {
      "text/plain": [
       "array([[0.76116143, 0.24167206, 1.        , 0.79529577, 0.2664209 ],\n",
       "       [0.857547  , 0.33707463, 0.66108659, 0.46346807, 0.81567338],\n",
       "       [0.32571889, 0.57051093, 0.55723402, 0.96697832, 0.64292984],\n",
       "       [0.30050011, 0.28043221, 0.10012223, 0.80093362, 0.60784677],\n",
       "       [0.20567711, 0.11018625, 0.99430905, 0.        , 0.73042872]])"
      ]
     },
     "execution_count": 11,
     "metadata": {},
     "output_type": "execute_result"
    }
   ],
   "source": [
    "import numpy as np\n",
    "z = np.random.random((5,5))\n",
    "zmin = z.min()\n",
    "zmax = z.max()\n",
    "z = (z-zmin)/(zmax-zmin)\n",
    "z"
   ]
  },
  {
   "cell_type": "markdown",
   "metadata": {},
   "source": [
    "### Extract the integer part of a random array using 5 different methods"
   ]
  },
  {
   "cell_type": "code",
   "execution_count": 12,
   "metadata": {},
   "outputs": [
    {
     "data": {
      "text/plain": [
       "array([5.80033994, 1.59470928, 4.2552176 , 8.68472536, 3.67467253,\n",
       "       5.98470234, 2.17218147, 1.99404204, 8.1389233 , 0.12989807])"
      ]
     },
     "execution_count": 12,
     "metadata": {},
     "output_type": "execute_result"
    }
   ],
   "source": [
    "x = np.random.uniform(0,10,10)\n",
    "x"
   ]
  },
  {
   "cell_type": "code",
   "execution_count": 13,
   "metadata": {},
   "outputs": [
    {
     "name": "stdout",
     "output_type": "stream",
     "text": [
      "[5. 1. 4. 8. 3. 5. 2. 1. 8. 0.]\n"
     ]
    }
   ],
   "source": [
    "print(x-x%1)"
   ]
  },
  {
   "cell_type": "code",
   "execution_count": 14,
   "metadata": {},
   "outputs": [
    {
     "data": {
      "text/plain": [
       "array([5., 1., 4., 8., 3., 5., 2., 1., 8., 0.])"
      ]
     },
     "execution_count": 14,
     "metadata": {},
     "output_type": "execute_result"
    }
   ],
   "source": [
    "np.floor(x)"
   ]
  },
  {
   "cell_type": "code",
   "execution_count": 15,
   "metadata": {},
   "outputs": [
    {
     "data": {
      "text/plain": [
       "array([5., 1., 4., 8., 3., 5., 2., 1., 8., 0.])"
      ]
     },
     "execution_count": 15,
     "metadata": {},
     "output_type": "execute_result"
    }
   ],
   "source": [
    "np.ceil(x)-1"
   ]
  },
  {
   "cell_type": "code",
   "execution_count": 16,
   "metadata": {},
   "outputs": [
    {
     "data": {
      "text/plain": [
       "array([5, 1, 4, 8, 3, 5, 2, 1, 8, 0])"
      ]
     },
     "execution_count": 16,
     "metadata": {},
     "output_type": "execute_result"
    }
   ],
   "source": [
    "x.astype('int')"
   ]
  },
  {
   "cell_type": "code",
   "execution_count": 17,
   "metadata": {},
   "outputs": [
    {
     "data": {
      "text/plain": [
       "array([5., 1., 4., 8., 3., 5., 2., 1., 8., 0.])"
      ]
     },
     "execution_count": 17,
     "metadata": {},
     "output_type": "execute_result"
    }
   ],
   "source": [
    "np.trunc(x)"
   ]
  },
  {
   "cell_type": "markdown",
   "metadata": {},
   "source": [
    "### check two array  eqaul or not"
   ]
  },
  {
   "cell_type": "code",
   "execution_count": 18,
   "metadata": {},
   "outputs": [],
   "source": [
    "A = np.random.randint(0,2,5)\n",
    "B = np.random.randint(0,2,5)"
   ]
  },
  {
   "cell_type": "code",
   "execution_count": 19,
   "metadata": {},
   "outputs": [
    {
     "data": {
      "text/plain": [
       "False"
      ]
     },
     "execution_count": 19,
     "metadata": {},
     "output_type": "execute_result"
    }
   ],
   "source": [
    "np.allclose(A,B)"
   ]
  },
  {
   "cell_type": "code",
   "execution_count": 36,
   "metadata": {},
   "outputs": [
    {
     "name": "stdout",
     "output_type": "stream",
     "text": [
      "0.167\n"
     ]
    }
   ],
   "source": [
    "print('{0:.3}'.format(1.0/6))"
   ]
  },
  {
   "cell_type": "code",
   "execution_count": null,
   "metadata": {},
   "outputs": [],
   "source": []
  }
 ],
 "metadata": {
  "kernelspec": {
   "display_name": "Python 3",
   "language": "python",
   "name": "python3"
  },
  "language_info": {
   "codemirror_mode": {
    "name": "ipython",
    "version": 3
   },
   "file_extension": ".py",
   "mimetype": "text/x-python",
   "name": "python",
   "nbconvert_exporter": "python",
   "pygments_lexer": "ipython3",
   "version": "3.8.2"
  }
 },
 "nbformat": 4,
 "nbformat_minor": 4
}
